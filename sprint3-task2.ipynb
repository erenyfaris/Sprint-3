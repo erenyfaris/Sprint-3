{
 "cells": [
  {
   "cell_type": "code",
   "execution_count": 7,
   "id": "7720465b",
   "metadata": {},
   "outputs": [
    {
     "name": "stdout",
     "output_type": "stream",
     "text": [
      "10\n",
      "2 3 4 5 6 8 7 6 5 18\n",
      "6\n",
      "6 55\n",
      "6 45\n",
      "6 55\n",
      "4 40\n",
      "18 60\n",
      "10 50\n",
      "200\n"
     ]
    }
   ],
   "source": [
    "#collections.Counter()\n",
    "#https://www.hackerrank.com/challenges/collections-counter/problem?isFullScreen=false\n",
    "# Enter your code here. Read input from STDIN. Print output to STDOUT\n",
    "from collections import Counter\n",
    "X = int(input())\n",
    "N = map(int,input().split())\n",
    "x = int(input())\n",
    "L = map(tuple,(map(int,input().split()) for _ in range(x)))\n",
    "n = Counter(N)\n",
    "p =0\n",
    "for i in L:\n",
    "    if i[0] in n.keys() and n[i[0]] >0 :\n",
    "        n[i[0]] = n[i[0]]-1\n",
    "        p = p+i[1]\n",
    "          \n",
    "print(p)\n"
   ]
  },
  {
   "cell_type": "code",
   "execution_count": 11,
   "id": "8ee6c21e",
   "metadata": {},
   "outputs": [
    {
     "name": "stdout",
     "output_type": "stream",
     "text": [
      "5 2\n",
      "a\n",
      "a\n",
      "b\n",
      "a\n",
      "b\n",
      "a\n",
      "1 2 4\n",
      "b\n",
      "3 5\n"
     ]
    }
   ],
   "source": [
    "#DefaultDict Tutorial\n",
    "#https://www.hackerrank.com/challenges/defaultdict-tutorial/problem?isFullScreen=false\n",
    "# Enter your code here. Read input from STDIN. Print output to STDOUT\n",
    "# DefaultDict Tutorial in Python - Hacker Rank Solution START\n",
    "from collections import defaultdict\n",
    "\n",
    "n, m = map(int,input().split())\n",
    "\n",
    "a = defaultdict(list)\n",
    "for i in range(1, n + 1):\n",
    "    a[input()].append(i)\n",
    "\n",
    "for i in range(1, m + 1):\n",
    "    key = input()\n",
    "    if len(a[key]) > 0:\n",
    "        print(\" \".join(str(c) for c in a[key]))\n",
    "    else:\n",
    "        print(-1)\n"
   ]
  },
  {
   "cell_type": "code",
   "execution_count": 16,
   "id": "dcf975e6",
   "metadata": {},
   "outputs": [
    {
     "name": "stdout",
     "output_type": "stream",
     "text": [
      "5\n",
      "MARKS\n",
      "92\n",
      "82\n",
      "94\n",
      "55\n",
      "82\n",
      "81.0\n"
     ]
    }
   ],
   "source": [
    "#collections.namedtuple()\n",
    "#https://www.hackerrank.com/challenges/py-collections-namedtuple/problem?isFullScreen=false\n",
    "# Enter your code here. Read input from STDIN. Print output to STDOUT\n",
    "# Collections.namedtuple() in Python - Hacker Rank Solution START\n",
    "import collections\n",
    "n = int(input())\n",
    "scol = ','.join(input().split())\n",
    "Student = collections.namedtuple('Student',scol)\n",
    "sum = 0\n",
    "for i in range(n):\n",
    "    row = input().split()\n",
    "    student = Student(*row)\n",
    "    sum += int(student.MARKS)\n",
    "\n",
    "print(sum/n)"
   ]
  },
  {
   "cell_type": "code",
   "execution_count": 17,
   "id": "059aa531",
   "metadata": {},
   "outputs": [
    {
     "name": "stdout",
     "output_type": "stream",
     "text": [
      "9\n",
      "BANANA FRIES 12\n",
      "POTATO CHIPS 30\n",
      "APPLE JUICE 10\n",
      "CANDY 5\n",
      "APPLE JUICE 10\n",
      "CANDY 5\n",
      "CANDY 5\n",
      "CANDY 5\n",
      "POTATO CHIPS 30\n",
      "BANANA FRIES 12\n",
      "POTATO CHIPS 60\n",
      "APPLE JUICE 20\n",
      "CANDY 20\n"
     ]
    }
   ],
   "source": [
    "#collections.OrderedDict\n",
    "#https://www.hackerrank.com/challenges/py-collections-ordereddict/problem?isFullScreen=false\n",
    "# Enter your code here. Read input from STDIN. Print output to STDOUT\n",
    "from collections import*;\n",
    "N = int(input());\n",
    "d = OrderedDict();\n",
    "for i in range(N):\n",
    "    item = input().split()\n",
    "    itemPrice = int(item[-1])\n",
    "    itemName = \" \".join(item[:-1])\n",
    "    if(d.get(itemName)):\n",
    "        d[itemName] += itemPrice\n",
    "    else:\n",
    "        d[itemName] = itemPrice\n",
    "for i in d.keys():\n",
    "    print(i, d[i])"
   ]
  },
  {
   "cell_type": "code",
   "execution_count": 18,
   "id": "5849c746",
   "metadata": {},
   "outputs": [
    {
     "name": "stdout",
     "output_type": "stream",
     "text": [
      "4\n",
      "bcdef\n",
      "abcdefg\n",
      "bcde\n",
      "bcdef\n",
      "3\n",
      "2 1 1\n"
     ]
    }
   ],
   "source": [
    "#Word Order\n",
    "#https://www.hackerrank.com/challenges/word-order/problem?isFullScreen=false\n",
    "# Enter your code here. Read input from STDIN. Print output to STDOUT\n",
    "n_ish = int(input())\n",
    "counter_dict = {}\n",
    "words_list = []\n",
    "for i in range(n_ish):\n",
    "  word = input()\n",
    "  words_list.append(word)\n",
    "  if word in counter_dict:\n",
    "    counter_dict[word] += 1\n",
    "  else:\n",
    "    counter_dict[word] = 1\n",
    "    \n",
    "print(len(counter_dict))\n",
    "print(' '.join([str(counter_dict[word]) for word in counter_dict]))\n"
   ]
  },
  {
   "cell_type": "code",
   "execution_count": 19,
   "id": "2c034888",
   "metadata": {},
   "outputs": [
    {
     "name": "stdout",
     "output_type": "stream",
     "text": [
      "6\n",
      "append 1\n",
      "append 2\n",
      "append 3\n",
      "appendleft 4\n",
      "pop\n",
      "popleft\n",
      "1 2 "
     ]
    }
   ],
   "source": [
    "#Collections.deque()\n",
    "#https://www.hackerrank.com/challenges/py-collections-deque/problem?isFullScreen=false\n",
    "# Enter your code here. Read input from STDIN. Print output to STDOUT\n",
    "from collections import deque\n",
    "n = int(input())\n",
    "d = deque()\n",
    "for _ in range(n):\n",
    "    lst = list(input().split())\n",
    "    if lst[0]=='append':\n",
    "        d.append(int(lst[1]))\n",
    "    elif lst[0]=='appendleft':\n",
    "        d.appendleft(int(lst[1]))\n",
    "    elif lst[0]=='popleft':\n",
    "        d.popleft()\n",
    "    elif lst[0]=='pop':\n",
    "        d.pop()\n",
    "for i in d:\n",
    "    print(i,end=\" \")"
   ]
  },
  {
   "cell_type": "code",
   "execution_count": 20,
   "id": "21ce9f8f",
   "metadata": {},
   "outputs": [
    {
     "name": "stdout",
     "output_type": "stream",
     "text": [
      "aabbbccde\n",
      "b 3\n",
      "a 2\n",
      "c 2\n"
     ]
    }
   ],
   "source": [
    "#Company Logo\n",
    "#https://www.hackerrank.com/challenges/most-commons/problem?isFullScreen=false\n",
    "# Enter your code here. Read input from STDIN. Print output to STDOUT\n",
    "import math\n",
    "import os\n",
    "import random\n",
    "import re\n",
    "import sys\n",
    "import collections\n",
    "\n",
    "if __name__ == '__main__':\n",
    "    s = sorted(input().strip())\n",
    "    s_counter = collections.Counter(s).most_common()\n",
    "    s_counter = sorted(s_counter, key=lambda x: (x[1] * -1, x[0]))\n",
    "    for i in range(0, 3):\n",
    "        print(s_counter[i][0], s_counter[i][1])"
   ]
  },
  {
   "cell_type": "code",
   "execution_count": 22,
   "id": "c35ea9ce",
   "metadata": {},
   "outputs": [
    {
     "name": "stdout",
     "output_type": "stream",
     "text": [
      "2\n",
      "6\n",
      "4 3 2 1 3 4\n",
      "Yes\n",
      "3\n",
      "1 2 3 \n",
      "Yes\n"
     ]
    }
   ],
   "source": [
    "#Piling Up!\n",
    "#https://www.hackerrank.com/challenges/piling-up/problem?isFullScreen=false\n",
    "# Enter your code here. Read input from STDIN. Print output to STDOUT\n",
    "# Piling Up in python - Hacker Rank Solution START\n",
    "from collections import deque\n",
    "\n",
    "N = int(input())\n",
    "\n",
    "for _ in range(N):\n",
    "    flag = True\n",
    "    input()\n",
    "    d = deque(map(int, input().strip().split()))\n",
    "    if(d[0] >= d[-1]):\n",
    "        max = d.popleft()\n",
    "    else:\n",
    "        max = d.pop()\n",
    "    while d:\n",
    "        if(len(d)==1):\n",
    "            if(d[0] <= max):\n",
    "                break\n",
    "            else:\n",
    "                flag = False\n",
    "                break\n",
    "        else:\n",
    "            if(d[0]<=max and d[-1]<=max):\n",
    "                if(d[0]>=d[-1]):\n",
    "                    max = d.popleft()\n",
    "                else:\n",
    "                    max = d.pop()\n",
    "            elif(d[0]<=max):\n",
    "                max = d.popleft()\n",
    "            elif(d[-1]<=max):\n",
    "                max = d.pop()\n",
    "            else:\n",
    "                flag = False\n",
    "                break\n",
    "    if flag:\n",
    "        print(\"Yes\")\n",
    "    else:\n",
    "        print(\"No\")"
   ]
  },
  {
   "cell_type": "code",
   "execution_count": null,
   "id": "f8764667",
   "metadata": {},
   "outputs": [],
   "source": []
  }
 ],
 "metadata": {
  "kernelspec": {
   "display_name": "Python 3 (ipykernel)",
   "language": "python",
   "name": "python3"
  },
  "language_info": {
   "codemirror_mode": {
    "name": "ipython",
    "version": 3
   },
   "file_extension": ".py",
   "mimetype": "text/x-python",
   "name": "python",
   "nbconvert_exporter": "python",
   "pygments_lexer": "ipython3",
   "version": "3.9.7"
  }
 },
 "nbformat": 4,
 "nbformat_minor": 5
}
