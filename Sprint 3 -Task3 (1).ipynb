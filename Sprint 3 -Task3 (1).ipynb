{
 "cells": [
  {
   "cell_type": "code",
   "execution_count": 4,
   "id": "cbebb116",
   "metadata": {},
   "outputs": [
    {
     "name": "stdout",
     "output_type": "stream",
     "text": [
      "08 05 2015\n",
      "WEDNESDAY\n"
     ]
    }
   ],
   "source": [
    "#q1 Calendar Module\n",
    "#https://www.hackerrank.com/challenges/calendar-module/problem?isFullScreen=false\n",
    "# Calendar Module in Python - Hacker Rank Solution START\n",
    "import calendar\n",
    "m, d, y = map(int, input().strip().split())\n",
    "print(calendar.day_name[calendar.weekday(y, m, d)].upper())\n"
   ]
  },
  {
   "cell_type": "code",
   "execution_count": 3,
   "id": "5cba97ff",
   "metadata": {},
   "outputs": [
    {
     "name": "stdout",
     "output_type": "stream",
     "text": [
      "3\n",
      "1 0\n",
      "Error Code: integer division or modulo by zero\n",
      "2 $\n",
      "Error Code: invalid literal for int() with base 10: '$'\n",
      "3 1\n",
      "3\n"
     ]
    }
   ],
   "source": [
    "#q2 Exceptions\n",
    "#https://www.hackerrank.com/challenges/exceptions/problem?isFullScreen=false\n",
    "# Enter your code here. Read input from STDIN. Print output to STDOUT\n",
    "# Exceptions in Python - Hacker Rank Solution START\n",
    "x = int(input());\n",
    "for i in range(x):\n",
    "    try:\n",
    "        a, b = input().split()\n",
    "        print(int(a)//int(b))\n",
    "    except ZeroDivisionError as e:\n",
    "        print(\"Error Code:\",e);\n",
    "    except ValueError as v:\n",
    "        print(\"Error Code:\",v);"
   ]
  },
  {
   "cell_type": "code",
   "execution_count": 7,
   "id": "3e2dd85e",
   "metadata": {},
   "outputs": [
    {
     "name": "stdout",
     "output_type": "stream",
     "text": [
      "2\n",
      "Sun 10 May 2015 13:54:36 -0700\n",
      "Sun 10 May 2015 13:54:36 -0000\n",
      "25200\n",
      "Sat 02 May 2015 19:54:36 +0530\n",
      "Fri 01 May 2015 13:54:36 -0000\n",
      "88200\n"
     ]
    }
   ],
   "source": [
    "#q3 Time Delta\n",
    "#https://www.hackerrank.com/challenges/python-time-delta/problem?isFullScreen=false\n",
    "# Enter your code here. Read input from STDIN. Print output to STDOUT\n",
    "from datetime import datetime\n",
    "def delta(d1,d2):\n",
    "    f= '%a %d %b %Y %H:%M:%S %z'\n",
    "    d1 = datetime.strptime(d1, f) \n",
    "    d2 = datetime.strptime(d2, f) \n",
    "    diff = (d2-d1).total_seconds()  \n",
    "    return abs(int(diff))\n",
    "for _ in range(int(input())):\n",
    "    print(delta(input(), input()))"
   ]
  },
  {
   "cell_type": "code",
   "execution_count": 8,
   "id": "7fd5e00d",
   "metadata": {},
   "outputs": [
    {
     "name": "stdout",
     "output_type": "stream",
     "text": [
      "2\n",
      ".*\\+\n",
      "True\n",
      ".*+\n",
      "False\n"
     ]
    }
   ],
   "source": [
    "#q4 Incorrect Regex\n",
    "#https://www.hackerrank.com/challenges/incorrect-regex/problem?isFullScreen=false\n",
    "# Enter your code here. Read input from STDIN. Print output to STDOUT\n",
    "# Incorrect Regex in Python - Hacker Rank Solution START\n",
    "import re;\n",
    "N = int(input())\n",
    "for _ in range(N):\n",
    "    try:\n",
    "        re.compile(input())\n",
    "        Output = True\n",
    "    except re.error:\n",
    "        Output = False\n",
    "    \n",
    "    print(Output)\n"
   ]
  },
  {
   "cell_type": "code",
   "execution_count": 1,
   "id": "658499f6",
   "metadata": {},
   "outputs": [
    {
     "name": "stdout",
     "output_type": "stream",
     "text": [
      "2 1\n",
      "5 6\n",
      "7.00+7.00i\n",
      "-3.00-5.00i\n",
      "4.00+17.00i\n",
      "0.26-0.11i\n",
      "2.24+0.00i\n",
      "7.81+0.00i\n"
     ]
    }
   ],
   "source": [
    "#q5 Classes: Dealing with Complex Numbers\n",
    "#https://www.hackerrank.com/challenges/class-1-dealing-with-complex-numbers/problem?isFullScreen=false\n",
    "import math\n",
    "class Complex(object):\n",
    "# Classes Dealing with Complex Numbers in python - Hacker Rank Solution START\n",
    "    def __init__(self, real, imaginary):\n",
    "        self.real = real\n",
    "        self.imaginary = imaginary\n",
    "        \n",
    "    def __add__(self, no):\n",
    "        real = self.real + no.real\n",
    "        imaginary = self.imaginary + no.imaginary\n",
    "        return Complex(real,imaginary)\n",
    "        \n",
    "    def __sub__(self, no):\n",
    "        real = self.real - no.real\n",
    "        imaginary = self.imaginary - no.imaginary\n",
    "        return Complex(real,imaginary)\n",
    "        \n",
    "    def __mul__(self, no):\n",
    "        real = self.real * no.real - self.imaginary * no.imaginary\n",
    "        imaginary = self.real * no.imaginary + self.imaginary * no.real\n",
    "        return Complex(real,imaginary)\n",
    "\n",
    "    def __truediv__(self, no):\n",
    "        x = float(no.real ** 2 + no.imaginary ** 2)\n",
    "        y = self * Complex(no.real, -no.imaginary)\n",
    "        real = y.real / x\n",
    "        imaginary = y.imaginary / x\n",
    "        return Complex(real, imaginary)\n",
    "\n",
    "    def mod(self):\n",
    "        real = math.sqrt(self.real ** 2 + self.imaginary ** 2)\n",
    "        return Complex(real, 0)\n",
    "# Classes Dealing with Complex Numbers in python - Hacker Rank Solution END\n",
    "\n",
    "    def __str__(self):\n",
    "        if self.imaginary == 0:\n",
    "            result = \"%.2f+0.00i\" % (self.real)\n",
    "        elif self.real == 0:\n",
    "            if self.imaginary >= 0:\n",
    "                result = \"0.00+%.2fi\" % (self.imaginary)\n",
    "            else:\n",
    "                result = \"0.00-%.2fi\" % (abs(self.imaginary))\n",
    "        elif self.imaginary > 0:\n",
    "            result = \"%.2f+%.2fi\" % (self.real, self.imaginary)\n",
    "        else:\n",
    "            result = \"%.2f-%.2fi\" % (self.real, abs(self.imaginary))\n",
    "        return result\n",
    "if __name__ == '__main__':\n",
    "    c = map(float, input().split())\n",
    "    d = map(float, input().split())\n",
    "    x = Complex(*c)\n",
    "    y = Complex(*d)\n",
    "    print(*map(str, [x+y, x-y, x*y, x/y, x.mod(), y.mod()]), sep='\\n')"
   ]
  },
  {
   "cell_type": "code",
   "execution_count": 2,
   "id": "34668a14",
   "metadata": {},
   "outputs": [
    {
     "name": "stdout",
     "output_type": "stream",
     "text": [
      " 5 3\n",
      "89 90 78 93 80\n",
      "90 91 85 88 86  \n",
      "91 92 83 89 90.5\n",
      "90.0\n",
      "91.0\n",
      "82.0\n",
      "90.0\n",
      "85.5\n"
     ]
    }
   ],
   "source": [
    "#q6 Zipped!\n",
    "#https://www.hackerrank.com/challenges/zipped/problem?isFullScreen=false\n",
    "# Enter your code here. Read input from STDIN. Print output to STDOUT\n",
    "N, X = input().split()\n",
    "\n",
    "io = list()\n",
    "\n",
    "for _ in range(int(X)):\n",
    "    ip = map(float, input().split())\n",
    "    io.append(ip)\n",
    "\n",
    "for i in zip(*io): \n",
    "    print( sum(i)/len(i) ) "
   ]
  },
  {
   "cell_type": "code",
   "execution_count": 3,
   "id": "8de3d375",
   "metadata": {},
   "outputs": [
    {
     "name": "stdout",
     "output_type": "stream",
     "text": [
      "1 4\n",
      "x**3 + x**2 + x + 1\n",
      "True\n"
     ]
    }
   ],
   "source": [
    "#q7 Input()\n",
    "#https://www.hackerrank.com/challenges/input/problem?isFullScreen=false\n",
    "# Enter your code here. Read input from STDIN. Print output to STDOUT\n",
    "if __name__ == \"__main__\":\n",
    "    x, k = map(int, input().strip().split())\n",
    "    string = input().strip()\n",
    "    \n",
    "    if eval(string) == k:\n",
    "        print(True)\n",
    "    else:\n",
    "        print(False)\n",
    "\n"
   ]
  },
  {
   "cell_type": "code",
   "execution_count": 4,
   "id": "f5f56940",
   "metadata": {},
   "outputs": [
    {
     "name": "stdout",
     "output_type": "stream",
     "text": [
      "print(2 + 3)\n",
      "5\n"
     ]
    }
   ],
   "source": [
    "#q8 Python Evaluation\n",
    "#https://www.hackerrank.com/challenges/python-eval/problem?isFullScreen=false\n",
    "# Enter your code here. Read input from STDIN. Print output to STDOUT\n",
    "from __future__ import print_function\n",
    "eval(input())\n"
   ]
  },
  {
   "cell_type": "code",
   "execution_count": 5,
   "id": "20c60f30",
   "metadata": {},
   "outputs": [
    {
     "name": "stdout",
     "output_type": "stream",
     "text": [
      "5 3\n",
      "10 2 5\n",
      "7 1 0\n",
      "9 9 9\n",
      "1 23 12\n",
      "6 5 9\n",
      "1\n",
      "7 1 0\n",
      "10 2 5\n",
      "6 5 9\n",
      "9 9 9\n",
      "1 23 12\n"
     ]
    }
   ],
   "source": [
    "#q9 Athlete Sort\n",
    "#https://www.hackerrank.com/challenges/python-sort-sort/problem?isFullScreen=false\n",
    "# Enter your code here. Read input from STDIN. Print output to STDOUT\n",
    "tbl = []\n",
    "rc = input()\n",
    "(r,c) = map(int, rc.split())\n",
    "\n",
    "for i in range(r):\n",
    "    _row = input()\n",
    "    row = list(map(int, _row.split()))\n",
    "    tbl.append(row)\n",
    "\n",
    "idx = int(input())\n",
    "    \n",
    "tbls = sorted(tbl, key = lambda x: x[idx])\n",
    "for t in tbls:\n",
    "    print (*t)"
   ]
  },
  {
   "cell_type": "code",
   "execution_count": 6,
   "id": "5737c85b",
   "metadata": {},
   "outputs": [
    {
     "name": "stdout",
     "output_type": "stream",
     "text": [
      "5\n",
      "12 9 61 5 14 \n",
      "True\n"
     ]
    }
   ],
   "source": [
    "#q10 Any or All\n",
    "#https://www.hackerrank.com/challenges/any-or-all/problem?isFullScreen=false\n",
    "# Enter your code here. Read input from STDIN. Print output to STDOUT\n",
    "n = int(input())\n",
    "a = list(input().split())\n",
    "if all(int(x)>0 for x in a) and any(x ==x[::-1] for x in a):\n",
    "    print ('True')\n",
    "else: \n",
    "    print('False')\n"
   ]
  },
  {
   "cell_type": "code",
   "execution_count": 7,
   "id": "11dd7766",
   "metadata": {},
   "outputs": [
    {
     "name": "stdout",
     "output_type": "stream",
     "text": [
      "Sorting1234\n",
      "ginortS1324\n"
     ]
    }
   ],
   "source": [
    "#q11 ginortS\n",
    "#https://www.hackerrank.com/challenges/ginorts/problem?isFullScreen=false\n",
    "print(*sorted(input(), key=lambda c: (c.isdigit() - c.islower(), c in '02468', c)), sep='')\n"
   ]
  },
  {
   "cell_type": "code",
   "execution_count": null,
   "id": "e7439a94",
   "metadata": {},
   "outputs": [],
   "source": []
  }
 ],
 "metadata": {
  "kernelspec": {
   "display_name": "Python 3 (ipykernel)",
   "language": "python",
   "name": "python3"
  },
  "language_info": {
   "codemirror_mode": {
    "name": "ipython",
    "version": 3
   },
   "file_extension": ".py",
   "mimetype": "text/x-python",
   "name": "python",
   "nbconvert_exporter": "python",
   "pygments_lexer": "ipython3",
   "version": "3.9.7"
  }
 },
 "nbformat": 4,
 "nbformat_minor": 5
}
